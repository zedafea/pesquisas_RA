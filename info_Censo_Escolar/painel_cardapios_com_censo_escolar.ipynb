{
 "cells": [
  {
   "cell_type": "markdown",
   "metadata": {},
   "source": [
    "   O seguinte script adiciona a informação do código do município (IBGE) na base de dados dos cardápios, extrai informações do censo escolar por cidade e por ano e a partir daí junta as informações dos cardápios com as do censo escolar de cada ano por meio do código do município."
   ]
  },
  {
   "cell_type": "code",
   "execution_count": null,
   "metadata": {},
   "outputs": [],
   "source": [
    "#Importação das bibliotecas\n",
    "import pandas as pd\n",
    "from unidecode import unidecode"
   ]
  },
  {
   "cell_type": "code",
   "execution_count": null,
   "metadata": {},
   "outputs": [],
   "source": [
    "#Importação do painel de dados com os cardápios \n",
    "df_painel = pd.read_csv(r'C:\\Users\\guilh\\Documents\\Pesquisa\\painel_cardapios_com_classificacao_alimentos.csv')"
   ]
  },
  {
   "cell_type": "code",
   "execution_count": null,
   "metadata": {},
   "outputs": [],
   "source": [
    "#Importação dos dados com os códigos IBGE dos municípios, disponível em: 'https://www.ibge.gov.br/explica/codigos-dos-municipios.php'\n",
    "df_mun = pd.read_csv(r'C:\\Users\\guilh\\Documents\\Pesquisa\\RELATORIO_DTB_BRASIL_MUNICIPIO.csv')"
   ]
  },
  {
   "cell_type": "code",
   "execution_count": null,
   "metadata": {},
   "outputs": [],
   "source": [
    "#Filtro para considerarmos apenas municípios do estado de SP\n",
    "df_mun = df_mun[df_mun['UF'] == 35]"
   ]
  },
  {
   "cell_type": "code",
   "execution_count": null,
   "metadata": {},
   "outputs": [],
   "source": [
    "#Filtro para considerarmos apenas as colunas com as informações do nome do município e do seu código\n",
    "df_mun = df_mun[['Código Município Completo','Nome_Município']]"
   ]
  },
  {
   "cell_type": "code",
   "execution_count": null,
   "metadata": {},
   "outputs": [],
   "source": [
    "#Manipulação na forma da escrita dos municípios para evitar possíveis erros por falta de acento, espaço, ponto etc.\n",
    "df_mun['cid'] = df_mun['Nome_Município'].str.lower().str.replace(\" \",\"\").str.replace(\",\",\"\").str.replace(\".\",\"\").str.replace(\"-\",\"\").str.replace(\":\",\"\").apply(lambda s:unidecode(s) if type(s) == str else s)\n",
    "df_painel['cid'] = df_painel['Nome_cidade'].str.lower().str.replace(\" \",\"\").str.replace(\",\",\"\").str.replace(\".\",\"\").str.replace(\"-\",\"\").str.replace(\":\",\"\").apply(lambda s:unidecode(s) if type(s) == str else s)"
   ]
  },
  {
   "cell_type": "code",
   "execution_count": null,
   "metadata": {},
   "outputs": [],
   "source": [
    "#Junção dos dados dos cardápios com a base dos municípios\n",
    "df_painel = pd.merge(df_painel,df_mun,how='left',on=['cid']) #Diferença no NA por causa de 'escolas' e 'anhanguera'"
   ]
  },
  {
   "cell_type": "code",
   "execution_count": null,
   "metadata": {},
   "outputs": [],
   "source": [
    "df_painel.drop(columns=['cid','Nome_Município'],inplace=True)"
   ]
  },
  {
   "cell_type": "markdown",
   "metadata": {},
   "source": [
    "## Censo Escolar"
   ]
  },
  {
   "cell_type": "markdown",
   "metadata": {},
   "source": [
    "   Para explicar a montagem da base de dados com as informações dos censos escolares farei uma explicação separada para um ano específico(2015). Para os demais anos farei de uma forma operacionalizada (por meio de estruturas de controle).\n",
    "   Fonte dos dados: download feito em https://www.gov.br/inep/pt-br/acesso-a-informacao/dados-abertos/microdados/censo-escolar para os anos de 2015 a 2019."
   ]
  },
  {
   "cell_type": "markdown",
   "metadata": {},
   "source": [
    "Obtendo o número de escolas por cidade"
   ]
  },
  {
   "cell_type": "code",
   "execution_count": null,
   "metadata": {},
   "outputs": [],
   "source": [
    "#Importação dos dados ESCOLAS\n",
    "df = pd.read_csv(r'C:\\Users\\guilh\\Documents\\CENSO_ESCOLAR\\2015\\DADOS\\ESCOLAS.csv',sep='|',encoding='Latin1',low_memory=False,\n",
    "                usecols=['CO_ENTIDADE','CO_UF','CO_MUNICIPIO','TP_DEPENDENCIA','TP_SITUACAO_FUNCIONAMENTO'])"
   ]
  },
  {
   "cell_type": "code",
   "execution_count": null,
   "metadata": {},
   "outputs": [],
   "source": [
    "#Selecionando as escolas com UF = 35 (Estado de SP), TP_DEPENDENCIA = 2 (Escolas Estaduais) e TP_SITUACAO_FUNCIONAMENTO = 1(Escolas 'Em Atividade') \n",
    "df_sp = df[(df['CO_UF'] == 35)&(df['TP_DEPENDENCIA'] == 2)&(df['TP_SITUACAO_FUNCIONAMENTO'] == 1)]"
   ]
  },
  {
   "cell_type": "code",
   "execution_count": null,
   "metadata": {},
   "outputs": [],
   "source": [
    "#Agrupando por código de município, fazendo a contagem e levando adiante apenas a coluna com o código do município e a contagem de CO_ENTIDADE, i.e, número de escolas daquela localidade \n",
    "df_sp = df_sp.groupby('CO_MUNICIPIO').count().reset_index()[['CO_MUNICIPIO','CO_ENTIDADE']]"
   ]
  },
  {
   "cell_type": "markdown",
   "metadata": {},
   "source": [
    "Obtendo o número de estudantes"
   ]
  },
  {
   "cell_type": "code",
   "execution_count": null,
   "metadata": {},
   "outputs": [],
   "source": [
    "#Importação dos dados MATRICULA_SUDESTE\n",
    "chunk = pd.read_csv(r'C:\\Users\\guilh\\Documents\\CENSO_ESCOLAR\\2015\\DADOS\\MATRICULA_SUDESTE.csv',sep='|',encoding='Latin1',low_memory=False,\n",
    "                    usecols=['CO_PESSOA_FISICA','NU_IDADE','CO_UF','CO_MUNICIPIO','TP_DEPENDENCIA'],chunksize = 100000)"
   ]
  },
  {
   "cell_type": "code",
   "execution_count": null,
   "metadata": {},
   "outputs": [],
   "source": [
    "#Selecionando as escolas com UF = 35 (Estado de SP) e TP_DEPENDENCIA = 2 (Escolas Estaduais) obs: para receber alunos a escola deve estar funcionando, logo não existe o filtro TP_SITUACAO_FUNCIONAMENTO = 1(Escolas 'Em Atividade')  \n",
    "ls = []\n",
    "for data in chunk:\n",
    "    data = data[(data['CO_UF'] == 35)&(data['TP_DEPENDENCIA'] == 2)]\n",
    "    ls.append(data)\n",
    "df_estud = pd.concat(ls)"
   ]
  },
  {
   "cell_type": "code",
   "execution_count": null,
   "metadata": {},
   "outputs": [],
   "source": [
    "#Retirando duplicatas na coluna ID dos matriculados, para considerarmos cada aluno apenas uma vez \n",
    "df_estud = df_estud.drop_duplicates(subset=['CO_PESSOA_FISICA'])"
   ]
  },
  {
   "cell_type": "code",
   "execution_count": null,
   "metadata": {},
   "outputs": [],
   "source": [
    "#Agrupando por código de município, fazendo a contagem e levando adiante apenas a coluna com o código do município e a contagem de diferentes CO_PESSOA_FISICA, i.e, número de alunos\n",
    "df_estud = df_estud.groupby(['CO_MUNICIPIO']).count().reset_index()[['CO_MUNICIPIO','CO_PESSOA_FISICA']]"
   ]
  },
  {
   "cell_type": "markdown",
   "metadata": {},
   "source": [
    "Junção dos dados"
   ]
  },
  {
   "cell_type": "code",
   "execution_count": null,
   "metadata": {},
   "outputs": [],
   "source": [
    "#Reunindo as informações obtidas do número de escola e do número de alunos por município\n",
    "pd.merge(df_sp,df_estud,on=['CO_MUNICIPIO'])"
   ]
  },
  {
   "cell_type": "markdown",
   "metadata": {},
   "source": [
    "Operacionalização do processo e restante do código"
   ]
  },
  {
   "cell_type": "code",
   "execution_count": null,
   "metadata": {},
   "outputs": [],
   "source": [
    "#Cabe observar que 2018 e 2019 'caem' em outro loop por causa da alteração do nome da coluna que faz referência ao ID do aluno, antes era 'CO_PESSOA_FISICA' e a partir de 2018 virou 'ID_ALUNO'\n",
    "dfs = []\n",
    "for i in range(2015,2020):\n",
    "    if (i==2015)|(i==2016)|(i==2017):\n",
    "        df = pd.read_csv(rf'C:\\Users\\guilh\\Documents\\CENSO_ESCOLAR\\{i}\\DADOS\\ESCOLAS.csv',sep='|',encoding='Latin1',low_memory=False,\n",
    "                    usecols=['CO_ENTIDADE','CO_UF','CO_MUNICIPIO','TP_DEPENDENCIA','TP_SITUACAO_FUNCIONAMENTO'])\n",
    "        df_sp = df[(df['CO_UF'] == 35)&(df['TP_DEPENDENCIA'] == 2)&(df['TP_SITUACAO_FUNCIONAMENTO'] == 1)]\n",
    "        df_sp = df_sp.groupby('CO_MUNICIPIO').count().reset_index()[['CO_MUNICIPIO','CO_ENTIDADE']]\n",
    "        chunk = pd.read_csv(rf'C:\\Users\\guilh\\Documents\\CENSO_ESCOLAR\\{i}\\DADOS\\MATRICULA_SUDESTE.csv',sep='|',encoding='Latin1',low_memory=False,\n",
    "                        usecols=['CO_PESSOA_FISICA','NU_IDADE','CO_UF','CO_MUNICIPIO','TP_DEPENDENCIA'],chunksize = 100000)\n",
    "        ls = []\n",
    "        for data in chunk:\n",
    "            data = data[(data['CO_UF'] == 35)&(data['TP_DEPENDENCIA'] == 2)]\n",
    "            ls.append(data)\n",
    "        df_estud = pd.concat(ls)\n",
    "        df_estud = df_estud.drop_duplicates(subset=['CO_PESSOA_FISICA'])\n",
    "        df_estud = df_estud.groupby(['CO_MUNICIPIO']).count().reset_index()[['CO_MUNICIPIO','CO_PESSOA_FISICA']]\n",
    "        df = pd.merge(df_sp,df_estud,on=['CO_MUNICIPIO'])\n",
    "        df['ano'] = i\n",
    "        print(i)\n",
    "        dfs.append(df)\n",
    "    else:\n",
    "        df = pd.read_csv(rf'C:\\Users\\guilh\\Documents\\CENSO_ESCOLAR\\{i}\\DADOS\\ESCOLAS.csv',sep='|',encoding='Latin1',low_memory=False,\n",
    "                    usecols=['CO_ENTIDADE','CO_UF','CO_MUNICIPIO','TP_DEPENDENCIA','TP_SITUACAO_FUNCIONAMENTO'])\n",
    "        df_sp = df[(df['CO_UF'] == 35)&(df['TP_DEPENDENCIA'] == 2)&(df['TP_SITUACAO_FUNCIONAMENTO'] == 1)]\n",
    "        df_sp = df_sp.groupby('CO_MUNICIPIO').count().reset_index()[['CO_MUNICIPIO','CO_ENTIDADE']]\n",
    "        chunk = pd.read_csv(rf'C:\\Users\\guilh\\Documents\\CENSO_ESCOLAR\\{i}\\DADOS\\MATRICULA_SUDESTE.csv',sep='|',encoding='Latin1',low_memory=False,\n",
    "                        usecols=['ID_ALUNO','NU_IDADE','CO_UF','CO_MUNICIPIO','TP_DEPENDENCIA'],chunksize = 100000)\n",
    "        ls = []\n",
    "        for data in chunk:\n",
    "            data = data[(data['CO_UF'] == 35)&(data['TP_DEPENDENCIA'] == 2)]\n",
    "            ls.append(data)\n",
    "        df_estud = pd.concat(ls)\n",
    "        df_estud = df_estud.drop_duplicates(subset=['ID_ALUNO'])\n",
    "        df_estud = df_estud.groupby(['CO_MUNICIPIO']).count().reset_index()[['CO_MUNICIPIO','ID_ALUNO']]\n",
    "        df = pd.merge(df_sp,df_estud,on=['CO_MUNICIPIO'])\n",
    "        df['ano'] = i\n",
    "        print(i)\n",
    "        dfs.append(df)"
   ]
  },
  {
   "cell_type": "code",
   "execution_count": null,
   "metadata": {},
   "outputs": [],
   "source": [
    "#Concatenação em um único dataframe\n",
    "df_censo = pd.concat(dfs)"
   ]
  },
  {
   "cell_type": "code",
   "execution_count": null,
   "metadata": {},
   "outputs": [],
   "source": [
    "#Teste para averiguarmos se não há inconsistência\n",
    "df_censo[(df_censo['CO_PESSOA_FISICA'].isna())&(df_censo['ID_ALUNO'].isna())]"
   ]
  },
  {
   "cell_type": "code",
   "execution_count": null,
   "metadata": {},
   "outputs": [],
   "source": [
    "#Substituindo valores NA por 0\n",
    "df_censo['CO_PESSOA_FISICA'].fillna(0,inplace=True)\n",
    "df_censo['ID_ALUNO'].fillna(0,inplace=True)"
   ]
  },
  {
   "cell_type": "code",
   "execution_count": null,
   "metadata": {},
   "outputs": [],
   "source": [
    "#Agrupando as informações do número de alunos dos diferentes anos em uma mesma coluna\n",
    "df_censo['n_alunos'] = df_censo['CO_PESSOA_FISICA'] + df_censo['ID_ALUNO']"
   ]
  },
  {
   "cell_type": "code",
   "execution_count": null,
   "metadata": {},
   "outputs": [],
   "source": [
    "df_censo.drop(columns=['CO_PESSOA_FISICA','ID_ALUNO'],inplace=True)"
   ]
  },
  {
   "cell_type": "code",
   "execution_count": null,
   "metadata": {},
   "outputs": [],
   "source": [
    "#Junção das informações dos cardápios com as do censo escolar por meio do código do município e do ano\n",
    "df_vf = pd.merge(df_painel,df_censo,how='left',left_on=['Código Município Completo','ano'],right_on=['CO_MUNICIPIO','ano'])"
   ]
  },
  {
   "cell_type": "code",
   "execution_count": null,
   "metadata": {},
   "outputs": [],
   "source": [
    "df_vf.head(70)"
   ]
  },
  {
   "cell_type": "code",
   "execution_count": null,
   "metadata": {},
   "outputs": [],
   "source": [
    "df_vf.drop(columns=['CO_MUNICIPIO'],inplace=True)"
   ]
  },
  {
   "cell_type": "code",
   "execution_count": null,
   "metadata": {},
   "outputs": [],
   "source": [
    "df_vf.set_index(['Nome_cidade','ano']).to_excel(r'painel_cardapios_com_censo_escolar.xlsx')"
   ]
  }
 ],
 "metadata": {
  "kernelspec": {
   "display_name": "Python 3",
   "language": "python",
   "name": "python3"
  },
  "language_info": {
   "codemirror_mode": {
    "name": "ipython",
    "version": 3
   },
   "file_extension": ".py",
   "mimetype": "text/x-python",
   "name": "python",
   "nbconvert_exporter": "python",
   "pygments_lexer": "ipython3",
   "version": "3.8.5"
  }
 },
 "nbformat": 4,
 "nbformat_minor": 4
}
