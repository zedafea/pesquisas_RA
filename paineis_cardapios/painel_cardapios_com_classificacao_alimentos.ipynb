{
 "cells": [
  {
   "cell_type": "code",
   "execution_count": null,
   "metadata": {},
   "outputs": [],
   "source": [
    "import pandas as pd\n",
    "from unidecode import unidecode"
   ]
  },
  {
   "cell_type": "code",
   "execution_count": null,
   "metadata": {},
   "outputs": [],
   "source": [
    "#Importação do df com a classificação dos alimentos\n",
    "df_classif = pd.read_csv(r'C:\\Users\\guilh\\Documents\\Pesquisa\\classificacao_alimentos_limpa.csv',usecols=['alimento','classif_NOVA','ultraprocessado','alim_protetores'])"
   ]
  },
  {
   "cell_type": "code",
   "execution_count": null,
   "metadata": {},
   "outputs": [],
   "source": [
    "#Importação do df com os dados dos cardápios\n",
    "df = pd.read_csv(r'C:\\Users\\guilh\\Documents\\Pesquisa\\painel_cardapios_com_index_por_cidade.csv',low_memory=False).reset_index()"
   ]
  },
  {
   "cell_type": "code",
   "execution_count": null,
   "metadata": {},
   "outputs": [],
   "source": [
    "#Transformando as colunas com os alimentos em linhas, para que cada alimento do cardápio de determinado dia corresponda a uma observação\n",
    "df = pd.wide_to_long(df,['Alim'],i='index',j='Alimento').sort_values(by=['Nome_cidade','ano']).reset_index()"
   ]
  },
  {
   "cell_type": "code",
   "execution_count": null,
   "metadata": {},
   "outputs": [],
   "source": [
    "#Retirando espaços e caracteres especiais das colunas correspondentes aos alimentos para facilitar o merge\n",
    "df['Alim'] = df['Alim'].str.lower().str.replace(\" \",\"\").str.replace(\",\",\"\").str.replace(\".\",\"\").str.replace(\"-\",\"\").str.replace(\":\",\"\").apply(lambda s:unidecode(s) if type(s) == str else s)\n",
    "df_classif['alimento'] = df_classif['alimento'].str.lower().str.replace(\" \",\"\").str.replace(\",\",\"\").str.replace(\".\",\"\").str.replace(\"-\",\"\").str.replace(\":\",\"\").apply(lambda s:unidecode(s) if type(s) == str else s)"
   ]
  },
  {
   "cell_type": "code",
   "execution_count": null,
   "metadata": {},
   "outputs": [],
   "source": [
    "#Fazendo o merge dos dfs \n",
    "df_vf = pd.merge(df,df_classif,how='left',left_on=['Alim'],right_on=['alimento'])"
   ]
  },
  {
   "cell_type": "code",
   "execution_count": null,
   "metadata": {},
   "outputs": [],
   "source": [
    "#Excluindo as colunas index,Alimento,Unnamed: 0,ID,ID Cidade,Alim,cidades\n",
    "df_vf.drop(columns=['index','Alimento','Unnamed: 0','ID','ID Cidade','Alim','cidades'],inplace=True)"
   ]
  },
  {
   "cell_type": "code",
   "execution_count": null,
   "metadata": {},
   "outputs": [],
   "source": [
    "#Transformando a coluna Data em formato datetime\n",
    "df_vf['Data'] = pd.to_datetime(df_vf['Data'],errors='ignore')"
   ]
  },
  {
   "cell_type": "code",
   "execution_count": null,
   "metadata": {},
   "outputs": [],
   "source": [
    "df_vf.sort_values(['Nome_cidade','ano','Data'],inplace=True)"
   ]
  },
  {
   "cell_type": "code",
   "execution_count": null,
   "metadata": {},
   "outputs": [],
   "source": [
    "#Retirando duplicatas\n",
    "df_vf.drop_duplicates(inplace=True)"
   ]
  },
  {
   "cell_type": "code",
   "execution_count": null,
   "metadata": {},
   "outputs": [],
   "source": [
    "#Setando como index nome da cidade e ano, retirando duplicatas e retirando observações com  NA na coluna alimento \n",
    "df_vf = df_vf.set_index(['Nome_cidade','ano']).dropna(subset=['alimento'])"
   ]
  },
  {
   "cell_type": "code",
   "execution_count": null,
   "metadata": {},
   "outputs": [],
   "source": [
    "df_vf.to_csv(r'painel_cardapios_com_classificacao_alimentos.csv')"
   ]
  }
 ],
 "metadata": {
  "kernelspec": {
   "display_name": "Python 3",
   "language": "python",
   "name": "python3"
  },
  "language_info": {
   "codemirror_mode": {
    "name": "ipython",
    "version": 3
   },
   "file_extension": ".py",
   "mimetype": "text/x-python",
   "name": "python",
   "nbconvert_exporter": "python",
   "pygments_lexer": "ipython3",
   "version": "3.8.5"
  }
 },
 "nbformat": 4,
 "nbformat_minor": 4
}
