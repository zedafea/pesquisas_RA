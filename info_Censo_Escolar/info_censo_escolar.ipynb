{
 "cells": [
  {
   "cell_type": "code",
   "execution_count": 1,
   "metadata": {},
   "outputs": [],
   "source": [
    "import pandas as pd "
   ]
  },
  {
   "cell_type": "code",
   "execution_count": null,
   "metadata": {},
   "outputs": [],
   "source": [
    "#Número de escolas por cidade"
   ]
  },
  {
   "cell_type": "code",
   "execution_count": null,
   "metadata": {},
   "outputs": [],
   "source": [
    "df = pd.read_csv(r'C:\\Users\\guilh\\Documents\\CENSO_ESCOLAR\\2015\\DADOS\\ESCOLAS.csv',sep='|',encoding='Latin1',low_memory=False,\n",
    "                usecols=['CO_ENTIDADE','CO_UF','CO_MUNICIPIO','TP_DEPENDENCIA','TP_SITUACAO_FUNCIONAMENTO'])"
   ]
  },
  {
   "cell_type": "code",
   "execution_count": null,
   "metadata": {},
   "outputs": [],
   "source": [
    "#Selecionando as escolas com UF = 35 (Estado de SP), TP_DEPENDENCIA = 2 (Escolas Estaduais) e TP_SITUACAO_FUNCIONAMENTO (Escolas 'Em Atividade') \n",
    "df_sp = df[(df['CO_UF'] == 35)&(df['TP_DEPENDENCIA'] == 2)&(df['TP_SITUACAO_FUNCIONAMENTO'] == 1)]"
   ]
  },
  {
   "cell_type": "code",
   "execution_count": null,
   "metadata": {},
   "outputs": [],
   "source": [
    "df_sp = df_sp.groupby('CO_MUNICIPIO').count().reset_index()[['CO_MUNICIPIO','CO_ENTIDADE']]"
   ]
  },
  {
   "cell_type": "code",
   "execution_count": null,
   "metadata": {},
   "outputs": [],
   "source": [
    "#Número de estudantes"
   ]
  },
  {
   "cell_type": "code",
   "execution_count": null,
   "metadata": {},
   "outputs": [],
   "source": [
    "chunk = pd.read_csv(r'C:\\Users\\guilh\\Documents\\CENSO_ESCOLAR\\2015\\DADOS\\MATRICULA_SUDESTE.csv',sep='|',encoding='Latin1',low_memory=False,\n",
    "                    usecols=['CO_PESSOA_FISICA','NU_IDADE','CO_UF','CO_MUNICIPIO','TP_DEPENDENCIA'],chunksize = 100000)"
   ]
  },
  {
   "cell_type": "code",
   "execution_count": null,
   "metadata": {},
   "outputs": [],
   "source": [
    "#Selecionando as escolas com UF = 35 (Estado de SP) e TP_DEPENDENCIA = 2 (Escolas Estaduais)\n",
    "ls = []\n",
    "for data in chunk:\n",
    "    data = data[(data['CO_UF'] == 35)&(data['TP_DEPENDENCIA'] == 2)]\n",
    "    ls.append(data)\n",
    "df_estud = pd.concat(ls)"
   ]
  },
  {
   "cell_type": "code",
   "execution_count": null,
   "metadata": {},
   "outputs": [],
   "source": [
    "#Retirando duplicatas na coluna ID dos matriculados \n",
    "df_estud = df_estud.drop_duplicates(subset=['CO_PESSOA_FISICA'])"
   ]
  },
  {
   "cell_type": "code",
   "execution_count": null,
   "metadata": {},
   "outputs": [],
   "source": [
    "#Agrupando por código de município e contando \n",
    "df_estud = df_estud.groupby(['CO_MUNICIPIO','NU_IDADE']).count().reset_index()[['CO_MUNICIPIO','CO_PESSOA_FISICA','NU_IDADE']]"
   ]
  },
  {
   "cell_type": "code",
   "execution_count": null,
   "metadata": {},
   "outputs": [],
   "source": [
    "df_estud"
   ]
  },
  {
   "cell_type": "code",
   "execution_count": null,
   "metadata": {},
   "outputs": [],
   "source": [
    "pd.merge(df_sp,df_estud,on=['CO_MUNICIPIO'])"
   ]
  },
  {
   "cell_type": "code",
   "execution_count": null,
   "metadata": {},
   "outputs": [],
   "source": [
    "#Operacionalização do processo"
   ]
  },
  {
   "cell_type": "code",
   "execution_count": 2,
   "metadata": {},
   "outputs": [],
   "source": [
    "writer = pd.ExcelWriter('info_censo_escolar.xlsx', engine='xlsxwriter')"
   ]
  },
  {
   "cell_type": "code",
   "execution_count": 3,
   "metadata": {},
   "outputs": [
    {
     "name": "stdout",
     "output_type": "stream",
     "text": [
      "2015\n",
      "2016\n",
      "2017\n",
      "2018\n",
      "2019\n"
     ]
    }
   ],
   "source": [
    "for i in range(2015,2020):\n",
    "    if (i==2015)|(i==2016)|(i==2017):\n",
    "        df = pd.read_csv(rf'C:\\Users\\guilh\\Documents\\CENSO_ESCOLAR\\{i}\\DADOS\\ESCOLAS.csv',sep='|',encoding='Latin1',low_memory=False,\n",
    "                    usecols=['CO_ENTIDADE','CO_UF','CO_MUNICIPIO','TP_DEPENDENCIA','TP_SITUACAO_FUNCIONAMENTO'])\n",
    "        df_sp = df[(df['CO_UF'] == 35)&(df['TP_DEPENDENCIA'] == 2)&(df['TP_SITUACAO_FUNCIONAMENTO'] == 1)]\n",
    "        df_sp = df_sp.groupby('CO_MUNICIPIO').count().reset_index()[['CO_MUNICIPIO','CO_ENTIDADE']]\n",
    "        chunk = pd.read_csv(rf'C:\\Users\\guilh\\Documents\\CENSO_ESCOLAR\\{i}\\DADOS\\MATRICULA_SUDESTE.csv',sep='|',encoding='Latin1',low_memory=False,\n",
    "                        usecols=['CO_PESSOA_FISICA','NU_IDADE','CO_UF','CO_MUNICIPIO','TP_DEPENDENCIA'],chunksize = 100000)\n",
    "        ls = []\n",
    "        for data in chunk:\n",
    "            data = data[(data['CO_UF'] == 35)&(data['TP_DEPENDENCIA'] == 2)]\n",
    "            ls.append(data)\n",
    "        df_estud = pd.concat(ls)\n",
    "        df_estud = df_estud.drop_duplicates(subset=['CO_PESSOA_FISICA'])\n",
    "        df_estud = df_estud.groupby(['CO_MUNICIPIO','NU_IDADE']).count().reset_index()[['CO_MUNICIPIO','CO_PESSOA_FISICA','NU_IDADE']]\n",
    "        df = pd.merge(df_sp,df_estud,on=['CO_MUNICIPIO'])\n",
    "        print(i)\n",
    "        df.to_excel(writer, index = False, sheet_name=f'Tabela_{i}')\n",
    "    else:\n",
    "        df = pd.read_csv(rf'C:\\Users\\guilh\\Documents\\CENSO_ESCOLAR\\{i}\\DADOS\\ESCOLAS.csv',sep='|',encoding='Latin1',low_memory=False,\n",
    "                    usecols=['CO_ENTIDADE','CO_UF','CO_MUNICIPIO','TP_DEPENDENCIA','TP_SITUACAO_FUNCIONAMENTO'])\n",
    "        df_sp = df[(df['CO_UF'] == 35)&(df['TP_DEPENDENCIA'] == 2)&(df['TP_SITUACAO_FUNCIONAMENTO'] == 1)]\n",
    "        df_sp = df_sp.groupby('CO_MUNICIPIO').count().reset_index()[['CO_MUNICIPIO','CO_ENTIDADE']]\n",
    "        chunk = pd.read_csv(rf'C:\\Users\\guilh\\Documents\\CENSO_ESCOLAR\\{i}\\DADOS\\MATRICULA_SUDESTE.csv',sep='|',encoding='Latin1',low_memory=False,\n",
    "                        usecols=['ID_ALUNO','NU_IDADE','CO_UF','CO_MUNICIPIO','TP_DEPENDENCIA'],chunksize = 100000)\n",
    "        ls = []\n",
    "        for data in chunk:\n",
    "            data = data[(data['CO_UF'] == 35)&(data['TP_DEPENDENCIA'] == 2)]\n",
    "            ls.append(data)\n",
    "        df_estud = pd.concat(ls)\n",
    "        df_estud = df_estud.drop_duplicates(subset=['ID_ALUNO'])\n",
    "        df_estud = df_estud.groupby(['CO_MUNICIPIO','NU_IDADE']).count().reset_index()[['CO_MUNICIPIO','ID_ALUNO','NU_IDADE']]\n",
    "        df = pd.merge(df_sp,df_estud,on=['CO_MUNICIPIO'])\n",
    "        print(i)\n",
    "        df.to_excel(writer, index = False, sheet_name=f'Tabela_{i}')   "
   ]
  },
  {
   "cell_type": "code",
   "execution_count": 4,
   "metadata": {},
   "outputs": [],
   "source": [
    "writer.save()"
   ]
  },
  {
   "cell_type": "code",
   "execution_count": null,
   "metadata": {},
   "outputs": [],
   "source": []
  }
 ],
 "metadata": {
  "kernelspec": {
   "display_name": "Python 3",
   "language": "python",
   "name": "python3"
  },
  "language_info": {
   "codemirror_mode": {
    "name": "ipython",
    "version": 3
   },
   "file_extension": ".py",
   "mimetype": "text/x-python",
   "name": "python",
   "nbconvert_exporter": "python",
   "pygments_lexer": "ipython3",
   "version": "3.8.5"
  }
 },
 "nbformat": 4,
 "nbformat_minor": 4
}
