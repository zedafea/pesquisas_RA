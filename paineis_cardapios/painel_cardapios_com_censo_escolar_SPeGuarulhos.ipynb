{
 "cells": [
  {
   "cell_type": "code",
   "execution_count": null,
   "metadata": {},
   "outputs": [],
   "source": [
    "#Captar os estudantes por diretoria de ensino da cidade de SP e Guarulhos"
   ]
  },
  {
   "cell_type": "code",
   "execution_count": null,
   "metadata": {},
   "outputs": [],
   "source": [
    "import pandas as pd"
   ]
  },
  {
   "cell_type": "code",
   "execution_count": null,
   "metadata": {},
   "outputs": [],
   "source": [
    "from unidecode import unidecode"
   ]
  },
  {
   "cell_type": "code",
   "execution_count": null,
   "metadata": {},
   "outputs": [],
   "source": [
    "df_es = pd.read_csv(r'C:\\Users\\guilh\\Documents\\Pesquisa\\DADOS_DIR_ENSINO_ESCOLAS\\ESTADUAL_SEE - ESTADUAL_SEE.csv')"
   ]
  },
  {
   "cell_type": "code",
   "execution_count": null,
   "metadata": {},
   "outputs": [],
   "source": [
    "df_es = df_es[(df_es['Municipio'] == 'SAO PAULO')|(df_es['Municipio'] == 'GUARULHOS')]"
   ]
  },
  {
   "cell_type": "code",
   "execution_count": null,
   "metadata": {},
   "outputs": [],
   "source": [
    "df_es = df_es[['Diretoria de ensino','Codigo MEC','Nome Escola','Municipio']]"
   ]
  },
  {
   "cell_type": "code",
   "execution_count": null,
   "metadata": {},
   "outputs": [],
   "source": [
    "df = pd.read_csv(r'C:\\Users\\guilh\\Documents\\CENSO_ESCOLAR\\2015\\DADOS\\ESCOLAS.csv',sep='|',encoding='Latin1',low_memory=False,\n",
    "                usecols=['CO_ENTIDADE','CO_UF','CO_MUNICIPIO','TP_DEPENDENCIA','TP_SITUACAO_FUNCIONAMENTO'])"
   ]
  },
  {
   "cell_type": "code",
   "execution_count": null,
   "metadata": {},
   "outputs": [],
   "source": [
    "df_sp = df[(df['CO_UF'] == 35)&(df['TP_DEPENDENCIA'] == 2)&(df['TP_SITUACAO_FUNCIONAMENTO'] == 1)]"
   ]
  },
  {
   "cell_type": "code",
   "execution_count": null,
   "metadata": {},
   "outputs": [],
   "source": [
    "df_sp = pd.merge(df_es,df_sp,how='left',left_on=['Codigo MEC'],right_on=['CO_ENTIDADE'])"
   ]
  },
  {
   "cell_type": "code",
   "execution_count": null,
   "metadata": {},
   "outputs": [],
   "source": [
    "df_sp = df_sp.groupby('Diretoria de ensino').count().reset_index()[['Diretoria de ensino','CO_ENTIDADE']]"
   ]
  },
  {
   "cell_type": "code",
   "execution_count": null,
   "metadata": {},
   "outputs": [],
   "source": []
  },
  {
   "cell_type": "code",
   "execution_count": null,
   "metadata": {},
   "outputs": [],
   "source": [
    "chunk = pd.read_csv(r'C:\\Users\\guilh\\Documents\\CENSO_ESCOLAR\\2015\\DADOS\\MATRICULA_SUDESTE.csv',sep='|',encoding='Latin1',low_memory=False,\n",
    "                    usecols=['CO_PESSOA_FISICA','NU_IDADE','CO_UF','CO_MUNICIPIO','TP_DEPENDENCIA','CO_ENTIDADE'],chunksize = 100000)"
   ]
  },
  {
   "cell_type": "code",
   "execution_count": null,
   "metadata": {},
   "outputs": [],
   "source": [
    "ls = []\n",
    "for data in chunk:\n",
    "    data = data[(data['CO_UF'] == 35)&(data['TP_DEPENDENCIA'] == 2)]\n",
    "    ls.append(data)\n",
    "df_estud = pd.concat(ls)"
   ]
  },
  {
   "cell_type": "code",
   "execution_count": null,
   "metadata": {},
   "outputs": [],
   "source": [
    "df_estud = df_estud.drop_duplicates(subset=['CO_PESSOA_FISICA'])"
   ]
  },
  {
   "cell_type": "code",
   "execution_count": null,
   "metadata": {},
   "outputs": [],
   "source": [
    "df_estud = pd.merge(df_es,df_estud,how='left',left_on=['Codigo MEC'],right_on=['CO_ENTIDADE'])"
   ]
  },
  {
   "cell_type": "code",
   "execution_count": null,
   "metadata": {},
   "outputs": [],
   "source": [
    "df_estud = df_estud.groupby(['Diretoria de ensino']).count().reset_index()[['Diretoria de ensino','CO_PESSOA_FISICA']]"
   ]
  },
  {
   "cell_type": "code",
   "execution_count": null,
   "metadata": {},
   "outputs": [],
   "source": []
  },
  {
   "cell_type": "code",
   "execution_count": null,
   "metadata": {},
   "outputs": [],
   "source": [
    "pd.merge(df_sp,df_estud,on=['Diretoria de ensino'])"
   ]
  },
  {
   "cell_type": "code",
   "execution_count": null,
   "metadata": {},
   "outputs": [],
   "source": []
  },
  {
   "cell_type": "code",
   "execution_count": null,
   "metadata": {},
   "outputs": [],
   "source": [
    "dfs = []\n",
    "for i in range(2015,2020):\n",
    "    if (i==2015)|(i==2016)|(i==2017):\n",
    "        df = pd.read_csv(rf'C:\\Users\\guilh\\Documents\\CENSO_ESCOLAR\\{i}\\DADOS\\ESCOLAS.csv',sep='|',encoding='Latin1',low_memory=False,\n",
    "                    usecols=['CO_ENTIDADE','CO_UF','CO_MUNICIPIO','TP_DEPENDENCIA','TP_SITUACAO_FUNCIONAMENTO'])\n",
    "        df_sp = df[(df['CO_UF'] == 35)&(df['TP_DEPENDENCIA'] == 2)&(df['TP_SITUACAO_FUNCIONAMENTO'] == 1)]\n",
    "        df_sp = pd.merge(df_es,df_sp,how='left',left_on=['Codigo MEC'],right_on=['CO_ENTIDADE'])\n",
    "        df_sp = df_sp.groupby('Diretoria de ensino').count().reset_index()[['Diretoria de ensino','CO_ENTIDADE']]\n",
    "        chunk = pd.read_csv(rf'C:\\Users\\guilh\\Documents\\CENSO_ESCOLAR\\{i}\\DADOS\\MATRICULA_SUDESTE.csv',sep='|',encoding='Latin1',low_memory=False,\n",
    "                        usecols=['CO_PESSOA_FISICA','NU_IDADE','CO_UF','CO_MUNICIPIO','TP_DEPENDENCIA','CO_ENTIDADE'],chunksize = 100000)\n",
    "        ls = []\n",
    "        for data in chunk:\n",
    "            data = data[(data['CO_UF'] == 35)&(data['TP_DEPENDENCIA'] == 2)]\n",
    "            ls.append(data)\n",
    "        df_estud = pd.concat(ls)\n",
    "        df_estud = df_estud.drop_duplicates(subset=['CO_PESSOA_FISICA'])\n",
    "        df_estud = pd.merge(df_es,df_estud,how='left',left_on=['Codigo MEC'],right_on=['CO_ENTIDADE'])\n",
    "        df_estud = df_estud.groupby(['Diretoria de ensino']).count().reset_index()[['Diretoria de ensino','CO_PESSOA_FISICA']]\n",
    "        df = pd.merge(df_sp,df_estud,on=['Diretoria de ensino'])\n",
    "        df['ano'] = i\n",
    "        print(i)\n",
    "        dfs.append(df)\n",
    "    else:\n",
    "        df = pd.read_csv(rf'C:\\Users\\guilh\\Documents\\CENSO_ESCOLAR\\{i}\\DADOS\\ESCOLAS.csv',sep='|',encoding='Latin1',low_memory=False,\n",
    "                    usecols=['CO_ENTIDADE','CO_UF','CO_MUNICIPIO','TP_DEPENDENCIA','TP_SITUACAO_FUNCIONAMENTO'])\n",
    "        df_sp = df[(df['CO_UF'] == 35)&(df['TP_DEPENDENCIA'] == 2)&(df['TP_SITUACAO_FUNCIONAMENTO'] == 1)]\n",
    "        df_sp = pd.merge(df_es,df_sp,how='left',left_on=['Codigo MEC'],right_on=['CO_ENTIDADE'])\n",
    "        df_sp = df_sp.groupby('Diretoria de ensino').count().reset_index()[['Diretoria de ensino','CO_ENTIDADE']]\n",
    "        chunk = pd.read_csv(rf'C:\\Users\\guilh\\Documents\\CENSO_ESCOLAR\\{i}\\DADOS\\MATRICULA_SUDESTE.csv',sep='|',encoding='Latin1',low_memory=False,\n",
    "                        usecols=['ID_ALUNO','NU_IDADE','CO_UF','CO_MUNICIPIO','TP_DEPENDENCIA','CO_ENTIDADE'],chunksize = 100000)\n",
    "        ls = []\n",
    "        for data in chunk:\n",
    "            data = data[(data['CO_UF'] == 35)&(data['TP_DEPENDENCIA'] == 2)]\n",
    "            ls.append(data)\n",
    "        df_estud = pd.concat(ls)\n",
    "        df_estud = df_estud.drop_duplicates(subset=['ID_ALUNO'])\n",
    "        df_estud = pd.merge(df_es,df_estud,how='left',left_on=['Codigo MEC'],right_on=['CO_ENTIDADE'])\n",
    "        df_estud = df_estud.groupby(['Diretoria de ensino']).count().reset_index()[['Diretoria de ensino','ID_ALUNO']]\n",
    "        df = pd.merge(df_sp,df_estud,on=['Diretoria de ensino'])\n",
    "        df['ano'] = i\n",
    "        print(i)\n",
    "        dfs.append(df)"
   ]
  },
  {
   "cell_type": "code",
   "execution_count": null,
   "metadata": {},
   "outputs": [],
   "source": [
    "df_censo = pd.concat(dfs)"
   ]
  },
  {
   "cell_type": "code",
   "execution_count": null,
   "metadata": {},
   "outputs": [],
   "source": [
    "df_censo['CO_PESSOA_FISICA'].fillna(0,inplace=True)\n",
    "df_censo['ID_ALUNO'].fillna(0,inplace=True)"
   ]
  },
  {
   "cell_type": "code",
   "execution_count": null,
   "metadata": {},
   "outputs": [],
   "source": [
    "df_censo['n_alunos'] = df_censo['CO_PESSOA_FISICA'] + df_censo['ID_ALUNO']"
   ]
  },
  {
   "cell_type": "code",
   "execution_count": null,
   "metadata": {},
   "outputs": [],
   "source": [
    "df_censo.drop(columns=['CO_PESSOA_FISICA','ID_ALUNO'],inplace=True)"
   ]
  },
  {
   "cell_type": "code",
   "execution_count": null,
   "metadata": {},
   "outputs": [],
   "source": []
  },
  {
   "cell_type": "code",
   "execution_count": null,
   "metadata": {},
   "outputs": [],
   "source": [
    "df_painel = pd.read_csv(r'C:\\Users\\guilh\\Documents\\Pesquisa\\painel_cardapios_com_classificacao_alimentos.csv')"
   ]
  },
  {
   "cell_type": "code",
   "execution_count": null,
   "metadata": {},
   "outputs": [],
   "source": [
    "df_censo['dir_ensino'] = df_censo['Diretoria de ensino'].str.lower().str.replace(\" \",\"\").str.replace(\",\",\"\").str.replace(\".\",\"\").str.replace(\"-\",\"\").str.replace(\":\",\"\").apply(lambda s:unidecode(s) if type(s) == str else s)\n",
    "df_painel['cid'] = df_painel['Nome_cidade'].str.lower().str.replace(\" \",\"\").str.replace(\",\",\"\").str.replace(\".\",\"\").str.replace(\"-\",\"\").str.replace(\":\",\"\").apply(lambda s:unidecode(s) if type(s) == str else s)"
   ]
  },
  {
   "cell_type": "code",
   "execution_count": null,
   "metadata": {},
   "outputs": [],
   "source": [
    "df_vf = pd.merge(df_painel,df_censo,how='left',left_on=['cid','ano'],right_on=['dir_ensino','ano'])"
   ]
  },
  {
   "cell_type": "code",
   "execution_count": null,
   "metadata": {},
   "outputs": [],
   "source": [
    "df_vf = df_vf[df_vf['Diretoria de ensino'].isna() == False]"
   ]
  },
  {
   "cell_type": "code",
   "execution_count": null,
   "metadata": {},
   "outputs": [],
   "source": [
    "df_vf.to_csv(r'painel_cardapios_com_censo_escolar_SPeGuarulhos.csv',index=False)"
   ]
  }
 ],
 "metadata": {
  "kernelspec": {
   "display_name": "Python 3",
   "language": "python",
   "name": "python3"
  },
  "language_info": {
   "codemirror_mode": {
    "name": "ipython",
    "version": 3
   },
   "file_extension": ".py",
   "mimetype": "text/x-python",
   "name": "python",
   "nbconvert_exporter": "python",
   "pygments_lexer": "ipython3",
   "version": "3.8.5"
  }
 },
 "nbformat": 4,
 "nbformat_minor": 4
}
