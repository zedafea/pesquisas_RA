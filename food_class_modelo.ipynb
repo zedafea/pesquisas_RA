{
 "cells": [
  {
   "cell_type": "code",
   "execution_count": null,
   "metadata": {},
   "outputs": [],
   "source": [
    "import pandas as pd\n",
    "from unidecode import unidecode"
   ]
  },
  {
   "cell_type": "markdown",
   "metadata": {},
   "source": [
    "Reading the PNAD data"
   ]
  },
  {
   "cell_type": "code",
   "execution_count": null,
   "metadata": {},
   "outputs": [],
   "source": [
    "df = pd.read_csv(r\"\\repasse_prefeituras.csv\",\n",
    "                 encoding='Latin1')"
   ]
  },
  {
   "cell_type": "markdown",
   "metadata": {},
   "source": [
    "Removing special characters, blank spaces, capital letters etc "
   ]
  },
  {
   "cell_type": "code",
   "execution_count": null,
   "metadata": {},
   "outputs": [],
   "source": [
    "df['alimentos'] = df['Descrição do Item'].str.replace(\" \\ \",\"\").str.replace(\"_\",\"\").str.replace(\"9\",\"\").str.replace(\"8\",\"\").str.replace(\"7\",\"\").str.replace(\"6\",\"\").str.replace(\"5\",\"\").str.replace(\"4\",\"\").str.replace(\"3\",\"\").str.replace(\"2\",\"\").str.replace(\"1\",\"\").str.replace(\"0\",\"\").str.lower().str.replace(\"*\",\"\").str.replace(\" \",\"\").str.replace(\"(\",\"\").str.replace(\"kg\",\"\").str.replace(\")\",\"\").str.replace(\"/\",\"\").str.replace(\",\",\"\").str.replace(\".\",\"\").str.replace(\"-\",\"\").str.replace(\":\",\"\").apply(lambda s:unidecode(s) if type(s) == str else s).astype('str')"
   ]
  },
  {
   "cell_type": "markdown",
   "metadata": {},
   "source": [
    "Reading the food's classification data"
   ]
  },
  {
   "cell_type": "code",
   "execution_count": null,
   "metadata": {},
   "outputs": [],
   "source": [
    "clas_alm = pd.read_excel(r'\\Warning labels food items_nova.xlsx',engine='openpyxl')"
   ]
  },
  {
   "cell_type": "markdown",
   "metadata": {},
   "source": [
    "Removing special characters, blank spaces, capital letters etc "
   ]
  },
  {
   "cell_type": "code",
   "execution_count": null,
   "metadata": {},
   "outputs": [],
   "source": [
    "clas_alm['alimento'] = clas_alm['DESCRIÇÃO DO ALIMENTO'].str.replace(\" \\ \",\"\").str.replace(\"_\",\"\").str.replace(\"9\",\"\").str.replace(\"8\",\"\").str.replace(\"7\",\"\").str.replace(\"6\",\"\").str.replace(\"5\",\"\").str.replace(\"4\",\"\").str.replace(\"3\",\"\").str.replace(\"2\",\"\").str.replace(\"1\",\"\").str.replace(\"0\",\"\").str.lower().str.replace(\"*\",\"\").str.replace(\" \",\"\").str.replace(\"(\",\"\").str.replace(\"kg\",\"\").str.replace(\")\",\"\").str.replace(\"/\",\"\").str.replace(\",\",\"\").str.replace(\".\",\"\").str.replace(\"-\",\"\").str.replace(\":\",\"\").apply(lambda s:unidecode(s) if type(s) == str else s).astype('str')"
   ]
  },
  {
   "cell_type": "markdown",
   "metadata": {},
   "source": [
    "Selecting the columns that we will use"
   ]
  },
  {
   "cell_type": "code",
   "execution_count": null,
   "metadata": {},
   "outputs": [],
   "source": [
    "clasf = clas_alm\n",
    "clasf = clasf[['DESCRIÇÃO DO ALIMENTO','alimento','nova']]"
   ]
  },
  {
   "cell_type": "markdown",
   "metadata": {},
   "source": [
    "Merging the data"
   ]
  },
  {
   "cell_type": "code",
   "execution_count": null,
   "metadata": {},
   "outputs": [],
   "source": [
    "tt = pd.merge(df,clasf,how='left',left_on=['alimentos'],right_on=['alimento'])"
   ]
  },
  {
   "cell_type": "markdown",
   "metadata": {},
   "source": [
    "Selecting the unclassified data "
   ]
  },
  {
   "cell_type": "code",
   "execution_count": null,
   "metadata": {},
   "outputs": [],
   "source": [
    "teste2 = tt[tt['alimento'].isna()]\n",
    "n_clasf = pd.Series(teste2['alimentos'].unique())\n",
    "\n",
    "alimentos = clasf['alimento'].to_list()"
   ]
  },
  {
   "cell_type": "markdown",
   "metadata": {},
   "source": [
    "In this for loop we test in each (non classified) food if we have some correspondence in the food's classification data. \n",
    "For example, if the word 'abacateceasa' was not classified in the first merge because we don't have an equal word in \n",
    "the food's classification data, in this for loop we will obtain the word 'abacate', allowing the classification of the \n",
    "entire word 'abacateceasa'. "
   ]
  },
  {
   "cell_type": "code",
   "execution_count": null,
   "metadata": {},
   "outputs": [],
   "source": [
    "dic = {}\n",
    "for i in n_clasf:\n",
    "    ls = []\n",
    "    for j in alimentos:\n",
    "        if j in i:\n",
    "            ls.append(j)    \n",
    "    dic[i] = ls"
   ]
  },
  {
   "cell_type": "markdown",
   "metadata": {},
   "source": [
    "In this for loop we remove repetitions (using the set())"
   ]
  },
  {
   "cell_type": "code",
   "execution_count": null,
   "metadata": {},
   "outputs": [],
   "source": [
    "dic_new = {}\n",
    "for x,v in dic.items():\n",
    "    dic_new[x] = list(set(v))\n",
    "teste3 = pd.DataFrame.from_dict(dic_new,orient='index')"
   ]
  },
  {
   "cell_type": "markdown",
   "metadata": {},
   "source": [
    "In this for loop we obtain the nova's number of each new classified food "
   ]
  },
  {
   "cell_type": "code",
   "execution_count": null,
   "metadata": {},
   "outputs": [],
   "source": [
    "colunas = {}\n",
    "for j in teste3.columns:\n",
    "    colunas[j] = pd.merge(teste3,clasf,how='left',left_on=[j],right_on=['alimento'])[['nova']]\n",
    "colunas = pd.concat(colunas,axis=1)"
   ]
  },
  {
   "cell_type": "markdown",
   "metadata": {},
   "source": [
    "Merging the data  "
   ]
  },
  {
   "cell_type": "code",
   "execution_count": null,
   "metadata": {},
   "outputs": [],
   "source": [
    "teste4 = pd.concat([teste3.reset_index(),colunas],axis=1).set_index('index')\n",
    "teste4 = teste4.iloc[:,6:]\n",
    "teste4['valor_unico'] = teste4.nunique(axis=1)"
   ]
  },
  {
   "cell_type": "markdown",
   "metadata": {},
   "source": [
    "Selecting the data that still without any classification "
   ]
  },
  {
   "cell_type": "code",
   "execution_count": null,
   "metadata": {},
   "outputs": [],
   "source": [
    "teste5 = teste4[teste4['valor_unico'] == 0]"
   ]
  },
  {
   "cell_type": "markdown",
   "metadata": {},
   "source": [
    "Selecting the data that have a coherent classification, with only one nova's number.\n",
    "For example, if in the first for loop we identified the words 'torta' and 'morango'\n",
    "for 'tortademorango' and they have differents classification (nova) number, we don't consider\n",
    "'tortademorango' as classified. "
   ]
  },
  {
   "cell_type": "code",
   "execution_count": null,
   "metadata": {},
   "outputs": [],
   "source": [
    "teste6 = teste4[teste4['valor_unico'] == 1]"
   ]
  }
 ],
 "metadata": {
  "kernelspec": {
   "display_name": "Python 3",
   "language": "python",
   "name": "python3"
  },
  "language_info": {
   "codemirror_mode": {
    "name": "ipython",
    "version": 3
   },
   "file_extension": ".py",
   "mimetype": "text/x-python",
   "name": "python",
   "nbconvert_exporter": "python",
   "pygments_lexer": "ipython3",
   "version": "3.8.5"
  }
 },
 "nbformat": 4,
 "nbformat_minor": 4
}
