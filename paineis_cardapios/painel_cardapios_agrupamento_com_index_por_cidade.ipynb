{
 "cells": [
  {
   "cell_type": "code",
   "execution_count": null,
   "metadata": {},
   "outputs": [],
   "source": [
    "import pandas as pd\n",
    "import numpy as np"
   ]
  },
  {
   "cell_type": "code",
   "execution_count": null,
   "metadata": {},
   "outputs": [],
   "source": [
    "from unidecode import unidecode"
   ]
  },
  {
   "cell_type": "code",
   "execution_count": null,
   "metadata": {},
   "outputs": [],
   "source": [
    "df_15 = pd.read_csv(r'C:\\Users\\guilh\\Documents\\Pesquisa\\cardp_15_19_c_index\\tabulação_cardápios_com_index - Tabela_2015.csv')\n",
    "df_16 = pd.read_csv(r'C:\\Users\\guilh\\Documents\\Pesquisa\\cardp_15_19_c_index\\tabulação_cardápios_com_index - Tabela_2016.csv')\n",
    "df_17 = pd.read_csv(r'C:\\Users\\guilh\\Documents\\Pesquisa\\cardp_15_19_c_index\\tabulação_cardápios_com_index - Tabela_2017.csv')\n",
    "df_18 = pd.read_csv(r'C:\\Users\\guilh\\Documents\\Pesquisa\\cardp_15_19_c_index\\tabulação_cardápios_com_index - Tabela_2018.csv')\n",
    "df_19 = pd.read_csv(r'C:\\Users\\guilh\\Documents\\Pesquisa\\cardp_15_19_c_index\\tabulação_cardápios_com_index - Tabela_2019.csv')\n",
    "df_refeicao = pd.read_csv(r'C:\\Users\\guilh\\Documents\\Pesquisa\\alimentos - alimentos.csv')"
   ]
  },
  {
   "cell_type": "code",
   "execution_count": null,
   "metadata": {},
   "outputs": [],
   "source": [
    "df_refeicao = df_refeicao[['index','refeição']]\n",
    "df_refeicao['ali'] = df_refeicao['index'].str.lower().str.replace(\" \",\"\").str.replace(\",\",\"\").str.replace(\".\",\"\").str.replace(\"-\",\"\").str.replace(\":\",\"\").apply(lambda s:unidecode(s) if type(s) == str else s)"
   ]
  },
  {
   "cell_type": "code",
   "execution_count": null,
   "metadata": {},
   "outputs": [],
   "source": [
    "dfs = [df_15,df_16,df_17,df_18,df_19]"
   ]
  },
  {
   "cell_type": "code",
   "execution_count": null,
   "metadata": {},
   "outputs": [],
   "source": [
    "pnl = []\n",
    "j = 2015\n",
    "for df in dfs:\n",
    "    df[['tcdp','cagr','ali']] = df[['Tipo_cardápio','Cidades_agrupamento_corrigida','Alim1']].apply(lambda x:x.str.lower().str.replace(\" \",\"\").str.replace(\",\",\"\").str.replace(\".\",\"\").str.replace(\"-\",\"\").str.replace(\":\",\"\").apply(lambda s:unidecode(s) if type(s) == str else s))\n",
    "    df = pd.merge(df,df_refeicao,how='left',left_on=['ali'],right_on=['ali'])\n",
    "    df['Cozinheiros_educacao'] = 0\n",
    "    df.loc[(df['Tipo_cardápio'].str.lower().str.contains('cozinheiros') == True),'Cozinheiros_educacao'] = 1    \n",
    "    df.drop(columns=['Agrupamento','ali','tcdp','cagr','index'],inplace = True)\n",
    "    df['ano'] = j\n",
    "    pnl.append(df)\n",
    "    j += 1"
   ]
  },
  {
   "cell_type": "code",
   "execution_count": null,
   "metadata": {},
   "outputs": [],
   "source": [
    "df = pd.concat(pnl)"
   ]
  },
  {
   "cell_type": "code",
   "execution_count": null,
   "metadata": {},
   "outputs": [],
   "source": [
    "df.loc[(df['Cozinheiros_educacao'] > 0),'Cozinheiros_educacao'] = 1"
   ]
  },
  {
   "cell_type": "code",
   "execution_count": null,
   "metadata": {},
   "outputs": [],
   "source": [
    "#Passando para a coluna cidades a lista com os nomes de todas as cidades do agrupamento\n",
    "df['cidades'] = df['Cidades_agrupamento_corrigida'].str.lower().str.replace(' ','').str.replace('.','').apply(lambda s:unidecode(s) if type(s) == str else s).str.split(',')"
   ]
  },
  {
   "cell_type": "code",
   "execution_count": null,
   "metadata": {},
   "outputs": [],
   "source": [
    "#Expandindo a coluna cidades para cada cidade da lista ser uma linha\n",
    "df = df.explode('cidades',ignore_index = True)"
   ]
  },
  {
   "cell_type": "code",
   "execution_count": null,
   "metadata": {},
   "outputs": [],
   "source": [
    "df_cidades = pd.read_csv(r'C:\\Users\\guilh\\Documents\\Pesquisa\\df_cidades_vf_corrigida_21_06 - Sheet1.csv',usecols=['Unnamed: 0','ID Cidade','Nome_cidade'])"
   ]
  },
  {
   "cell_type": "code",
   "execution_count": null,
   "metadata": {},
   "outputs": [],
   "source": [
    "#Merge para termos o nome correto da cidade\n",
    "df_vf = pd.merge(df,df_cidades,how='left',left_on=['cidades'],right_on = ['Unnamed: 0'])"
   ]
  },
  {
   "cell_type": "code",
   "execution_count": null,
   "metadata": {},
   "outputs": [],
   "source": [
    "df_vf.set_index(['Nome_cidade','ano']).sort_values(by=['Nome_cidade','ano']).to_csv(r'painel_cardapios_com_index_por_cidade.csv')"
   ]
  }
 ],
 "metadata": {
  "kernelspec": {
   "display_name": "Python 3",
   "language": "python",
   "name": "python3"
  },
  "language_info": {
   "codemirror_mode": {
    "name": "ipython",
    "version": 3
   },
   "file_extension": ".py",
   "mimetype": "text/x-python",
   "name": "python",
   "nbconvert_exporter": "python",
   "pygments_lexer": "ipython3",
   "version": "3.8.5"
  }
 },
 "nbformat": 4,
 "nbformat_minor": 4
}
