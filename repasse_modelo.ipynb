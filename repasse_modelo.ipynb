{
 "cells": [
  {
   "cell_type": "code",
   "execution_count": null,
   "metadata": {},
   "outputs": [],
   "source": [
    "import pandas as pd"
   ]
  },
  {
   "cell_type": "markdown",
   "metadata": {},
   "source": [
    "List of the capitals"
   ]
  },
  {
   "cell_type": "code",
   "execution_count": null,
   "metadata": {},
   "outputs": [],
   "source": [
    "capitais = ['BoaVista','Palmas','SP','Florianopolis','PA','Porto_Velho',\n",
    "            'Natal','Curitiba','Cuiaba','Teresina','Recife',\n",
    "            'JP','Belem','CampoGrande','BH','SaoLuis','Goiania',\n",
    "            'Vitoria','Fortaleza','Salvador','RioBranco',\n",
    "            'Macapa','Manaus','Maceio']"
   ]
  },
  {
   "cell_type": "markdown",
   "metadata": {},
   "source": [
    "In this loop we read the file from every year and capital in the list above and consolidate in a dictionary"
   ]
  },
  {
   "cell_type": "code",
   "execution_count": null,
   "metadata": {},
   "outputs": [],
   "source": [
    "dic_capitais = {}\n",
    "fail = []\n",
    "for j in capitais:\n",
    "    print(j)\n",
    "    normal = []\n",
    "    for i in range(2013,2021):\n",
    "        try:\n",
    "            df = pd.read_excel(rf'\\{j}\\relatorio_pref_{j}_{i}.xls')           \n",
    "            df.columns = df.iloc[12,:]\n",
    "            df = df.iloc[13:,:]\n",
    "            df[\"Ano\"] = i\n",
    "            df[\"Familiar\"] = 0   \n",
    "            df[\"Cidade\"] = j\n",
    "            normal.append(df) \n",
    "        except:\n",
    "            fail.append((i,j))\n",
    "            pass   \n",
    "    dic_capitais[j] = pd.concat(normal)  "
   ]
  },
  {
   "cell_type": "markdown",
   "metadata": {},
   "source": [
    "In this loop we read the file related to familiar agriculture from every year and capital in the list above and consolidate in a dictionary"
   ]
  },
  {
   "cell_type": "code",
   "execution_count": null,
   "metadata": {},
   "outputs": [],
   "source": [
    "dic_capitais_familiar = {}\n",
    "fail_familiar = []\n",
    "for z in capitais:\n",
    "    print(z)\n",
    "    familiar = []\n",
    "    for a in range(2013,2021):\n",
    "        try:\n",
    "            df_familiar = pd.read_excel(rf'\\{z}\\relatorio_pref_{z}_{a}_familiar.xls')\n",
    "            df_familiar.columns = df_familiar.iloc[12,:]\n",
    "            df_familiar = df_familiar.iloc[13:,:]\n",
    "            df_familiar[\"Familiar\"] = 1\n",
    "            df_familiar[\"Ano\"] = a \n",
    "            df_familiar[\"Cidade\"] = z\n",
    "            familiar.append(df_familiar) \n",
    "        except:\n",
    "            fail_familiar.append((i,j))\n",
    "            pass   \n",
    "    dic_capitais_familiar[z] = pd.concat(familiar)"
   ]
  },
  {
   "cell_type": "markdown",
   "metadata": {},
   "source": [
    "Turning the dicionaries into pandas Dataframes, joining the data and exporting "
   ]
  },
  {
   "cell_type": "code",
   "execution_count": null,
   "metadata": {},
   "outputs": [],
   "source": [
    "dic_capitais = pd.concat([df for df in dic_capitais.values()], ignore_index=True)\n",
    "dic_capitais_familiar = pd.concat([df for df in dic_capitais_familiar.values()], ignore_index=True)\n",
    "\n",
    "df = dic_capitais.append(dic_capitais_familiar)\n",
    "df = df.sort_values(by=[\"Cidade\",\"Ano\"])\n",
    "df['Prefeitura'] = 1\n",
    "\n",
    "df.to_csv(r\"\\repasse_prefeituras.csv\",index=False,encoding='Latin1')"
   ]
  }
 ],
 "metadata": {
  "kernelspec": {
   "display_name": "Python 3",
   "language": "python",
   "name": "python3"
  },
  "language_info": {
   "codemirror_mode": {
    "name": "ipython",
    "version": 3
   },
   "file_extension": ".py",
   "mimetype": "text/x-python",
   "name": "python",
   "nbconvert_exporter": "python",
   "pygments_lexer": "ipython3",
   "version": "3.8.5"
  }
 },
 "nbformat": 4,
 "nbformat_minor": 4
}
