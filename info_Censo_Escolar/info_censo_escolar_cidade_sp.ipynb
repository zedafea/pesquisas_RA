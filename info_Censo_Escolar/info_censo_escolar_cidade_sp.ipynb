{
 "cells": [
  {
   "cell_type": "code",
   "execution_count": 1,
   "metadata": {},
   "outputs": [],
   "source": [
    "import pandas as pd"
   ]
  },
  {
   "cell_type": "code",
   "execution_count": null,
   "metadata": {},
   "outputs": [],
   "source": [
    "#Código Cidade SP (IBGE) = 3550308"
   ]
  },
  {
   "cell_type": "code",
   "execution_count": null,
   "metadata": {},
   "outputs": [],
   "source": [
    "#Número de funcionários e infraestrutura (Cozinha e refeitório) "
   ]
  },
  {
   "cell_type": "code",
   "execution_count": null,
   "metadata": {},
   "outputs": [],
   "source": [
    "#Explicação das colunas selecionadas\n",
    "#IN_COZINHA = Dependências existentes na escola - Cozinha (0-Não,1-Sim)\n",
    "#IN_REFEITORIO = Dependências existentes na escola - Refeitório (0-Não,1-Sim)\n",
    "#IN_ALIMENTACAO = Alimentação escolar para os alunos (0-Não,1-Sim)\n",
    "#NU_FUNCIONARIOS = Total de funcionários da escola (inclusive profissionais escolares em sala de aula)"
   ]
  },
  {
   "cell_type": "code",
   "execution_count": null,
   "metadata": {},
   "outputs": [],
   "source": [
    "df = pd.read_csv(r'C:\\Users\\guilh\\Documents\\CENSO_ESCOLAR\\2015\\DADOS\\ESCOLAS.csv',sep='|',encoding='Latin1',low_memory=False,\n",
    "                usecols=['CO_ENTIDADE','CO_MUNICIPIO','TP_DEPENDENCIA','TP_SITUACAO_FUNCIONAMENTO','IN_COZINHA',\n",
    "                        'IN_REFEITORIO','IN_ALIMENTACAO','NU_FUNCIONARIOS'])"
   ]
  },
  {
   "cell_type": "code",
   "execution_count": null,
   "metadata": {},
   "outputs": [],
   "source": [
    "#Selecionando as escolas com Código de Município = 3550308 (Cidade de SP), TP_DEPENDENCIA = 2 (Escolas Estaduais) e TP_SITUACAO_FUNCIONAMENTO (Escolas 'Em Atividade')\n",
    "df_sp = df[(df['CO_MUNICIPIO'] == 3550308)&(df['TP_DEPENDENCIA'] == 2)&(df['TP_SITUACAO_FUNCIONAMENTO'] == 1)]"
   ]
  },
  {
   "cell_type": "code",
   "execution_count": null,
   "metadata": {},
   "outputs": [],
   "source": [
    "#Número de alunos"
   ]
  },
  {
   "cell_type": "code",
   "execution_count": null,
   "metadata": {},
   "outputs": [],
   "source": [
    "chunk = pd.read_csv(r'C:\\Users\\guilh\\Documents\\CENSO_ESCOLAR\\2018\\DADOS\\MATRICULA_SUDESTE.csv',sep='|',encoding='Latin1',low_memory=False,\n",
    "                    usecols=['CO_PESSOA_FISICA','NU_IDADE','CO_MUNICIPIO','CO_ENTIDADE','TP_DEPENDENCIA'],chunksize = 100000)"
   ]
  },
  {
   "cell_type": "code",
   "execution_count": null,
   "metadata": {},
   "outputs": [],
   "source": [
    "#Selecionando as escolas com Código de Município = 3550308 (Cidade de SP) e TP_DEPENDENCIA = 2 (Escolas Estaduais)\n",
    "ls = []\n",
    "for data in chunk:\n",
    "    data = data[(data['CO_MUNICIPIO'] == 3550308)&(data['TP_DEPENDENCIA'] == 2)]\n",
    "    ls.append(data)\n",
    "df_estud = pd.concat(ls)"
   ]
  },
  {
   "cell_type": "code",
   "execution_count": null,
   "metadata": {},
   "outputs": [],
   "source": [
    "#Retirando duplicatas na coluna ID dos matriculados \n",
    "df_estud = df_estud.drop_duplicates(subset=['CO_PESSOA_FISICA'])"
   ]
  },
  {
   "cell_type": "code",
   "execution_count": null,
   "metadata": {},
   "outputs": [],
   "source": [
    "#Agrupando por código de escola e contando \n",
    "df_estud = df_estud.groupby('CO_ENTIDADE').count().reset_index()[['CO_ENTIDADE','CO_PESSOA_FISICA']]"
   ]
  },
  {
   "cell_type": "code",
   "execution_count": null,
   "metadata": {},
   "outputs": [],
   "source": [
    "pd.merge(df_sp,df_estud,on=['CO_ENTIDADE'])"
   ]
  },
  {
   "cell_type": "code",
   "execution_count": null,
   "metadata": {},
   "outputs": [],
   "source": [
    "#Operacionalização do processo"
   ]
  },
  {
   "cell_type": "code",
   "execution_count": 2,
   "metadata": {},
   "outputs": [],
   "source": [
    "writer = pd.ExcelWriter('info_censo_escolar_cidade_sp.xlsx', engine='xlsxwriter')"
   ]
  },
  {
   "cell_type": "code",
   "execution_count": 3,
   "metadata": {},
   "outputs": [
    {
     "name": "stdout",
     "output_type": "stream",
     "text": [
      "2015\n",
      "2016\n",
      "2017\n",
      "2018\n",
      "2019\n"
     ]
    }
   ],
   "source": [
    "for i in range(2015,2020):\n",
    "    if (i==2015)|(i==2016)|(i==2017):\n",
    "        df = pd.read_csv(rf'C:\\Users\\guilh\\Documents\\CENSO_ESCOLAR\\{i}\\DADOS\\ESCOLAS.csv',sep='|',encoding='Latin1',low_memory=False,\n",
    "                    usecols=['CO_ENTIDADE','CO_MUNICIPIO','TP_DEPENDENCIA','TP_SITUACAO_FUNCIONAMENTO','IN_COZINHA','IN_REFEITORIO','IN_ALIMENTACAO','NU_FUNCIONARIOS'])\n",
    "        df_sp = df[(df['CO_MUNICIPIO'] == 3550308)&(df['TP_DEPENDENCIA'] == 2)&(df['TP_SITUACAO_FUNCIONAMENTO'] == 1)]\n",
    "        chunk = pd.read_csv(rf'C:\\Users\\guilh\\Documents\\CENSO_ESCOLAR\\{i}\\DADOS\\MATRICULA_SUDESTE.csv',sep='|',encoding='Latin1',low_memory=False,\n",
    "                        usecols=['CO_PESSOA_FISICA','NU_IDADE','CO_MUNICIPIO','CO_ENTIDADE','TP_DEPENDENCIA'],chunksize = 100000)\n",
    "        ls = []\n",
    "        for data in chunk:\n",
    "            data = data[(data['CO_MUNICIPIO'] == 3550308)&(data['TP_DEPENDENCIA'] == 2)]\n",
    "            ls.append(data)\n",
    "        df_estud = pd.concat(ls)\n",
    "        df_estud = df_estud.drop_duplicates(subset=['CO_PESSOA_FISICA'])\n",
    "        df_estud = df_estud.groupby('CO_ENTIDADE').count().reset_index()[['CO_ENTIDADE','CO_PESSOA_FISICA']]\n",
    "        df = pd.merge(df_sp,df_estud,on=['CO_ENTIDADE'])\n",
    "        df.sort_values(by=['CO_ENTIDADE'],inplace=True)\n",
    "        print(i)\n",
    "        df.to_excel(writer, index = False, sheet_name=f'Tabela_{i}')\n",
    "    elif (i==2018):\n",
    "        df = pd.read_csv(rf'C:\\Users\\guilh\\Documents\\CENSO_ESCOLAR\\{i}\\DADOS\\ESCOLAS.csv',sep='|',encoding='Latin1',low_memory=False,\n",
    "                    usecols=['CO_ENTIDADE','CO_MUNICIPIO','TP_DEPENDENCIA','TP_SITUACAO_FUNCIONAMENTO','IN_COZINHA','IN_REFEITORIO','IN_ALIMENTACAO','QT_FUNCIONARIOS'])\n",
    "        df_sp = df[(df['CO_MUNICIPIO'] == 3550308)&(df['TP_DEPENDENCIA'] == 2)&(df['TP_SITUACAO_FUNCIONAMENTO'] == 1)]\n",
    "        chunk = pd.read_csv(rf'C:\\Users\\guilh\\Documents\\CENSO_ESCOLAR\\{i}\\DADOS\\MATRICULA_SUDESTE.csv',sep='|',encoding='Latin1',low_memory=False,\n",
    "                        usecols=['ID_ALUNO','NU_IDADE','CO_MUNICIPIO','CO_ENTIDADE','TP_DEPENDENCIA'],chunksize = 100000)\n",
    "        ls = []\n",
    "        for data in chunk:\n",
    "            data = data[(data['CO_MUNICIPIO'] == 3550308)&(data['TP_DEPENDENCIA'] == 2)]\n",
    "            ls.append(data)\n",
    "        df_estud = pd.concat(ls)\n",
    "        df_estud = df_estud.drop_duplicates(subset=['ID_ALUNO'])\n",
    "        df_estud = df_estud.groupby('CO_ENTIDADE').count().reset_index()[['CO_ENTIDADE','ID_ALUNO']]\n",
    "        df = pd.merge(df_sp,df_estud,on=['CO_ENTIDADE'])\n",
    "        df.sort_values(by=['CO_ENTIDADE'],inplace=True)\n",
    "        print(i)\n",
    "        df.to_excel(writer, index = False, sheet_name=f'Tabela_{i}')\n",
    "    else:\n",
    "        df = pd.read_csv(rf'C:\\Users\\guilh\\Documents\\CENSO_ESCOLAR\\{i}\\DADOS\\ESCOLAS.csv',sep='|',encoding='Latin1',low_memory=False,)\n",
    "        df['QT_FUNCIONARIOS'] = df.iloc[:,150:163].sum(axis=1)\n",
    "        df = df[['CO_ENTIDADE','CO_MUNICIPIO','TP_DEPENDENCIA','TP_SITUACAO_FUNCIONAMENTO','IN_COZINHA','IN_REFEITORIO','IN_ALIMENTACAO','QT_FUNCIONARIOS']]\n",
    "        df_sp = df[(df['CO_MUNICIPIO'] == 3550308)&(df['TP_DEPENDENCIA'] == 2)&(df['TP_SITUACAO_FUNCIONAMENTO'] == 1)]\n",
    "        chunk = pd.read_csv(rf'C:\\Users\\guilh\\Documents\\CENSO_ESCOLAR\\{i}\\DADOS\\MATRICULA_SUDESTE.csv',sep='|',encoding='Latin1',low_memory=False,\n",
    "                        usecols=['ID_ALUNO','NU_IDADE','CO_MUNICIPIO','CO_ENTIDADE','TP_DEPENDENCIA'],chunksize = 100000)\n",
    "        ls = []\n",
    "        for data in chunk:\n",
    "            data = data[(data['CO_MUNICIPIO'] == 3550308)&(data['TP_DEPENDENCIA'] == 2)]\n",
    "            ls.append(data)\n",
    "        df_estud = pd.concat(ls)\n",
    "        df_estud = df_estud.drop_duplicates(subset=['ID_ALUNO'])\n",
    "        df_estud = df_estud.groupby('CO_ENTIDADE').count().reset_index()[['CO_ENTIDADE','ID_ALUNO']]\n",
    "        df = pd.merge(df_sp,df_estud,on=['CO_ENTIDADE'])\n",
    "        df.sort_values(by=['CO_ENTIDADE'],inplace=True)\n",
    "        print(i)\n",
    "        df.to_excel(writer, index = False, sheet_name=f'Tabela_{i}')"
   ]
  },
  {
   "cell_type": "code",
   "execution_count": 4,
   "metadata": {},
   "outputs": [],
   "source": [
    "writer.save()"
   ]
  }
 ],
 "metadata": {
  "kernelspec": {
   "display_name": "Python 3",
   "language": "python",
   "name": "python3"
  },
  "language_info": {
   "codemirror_mode": {
    "name": "ipython",
    "version": 3
   },
   "file_extension": ".py",
   "mimetype": "text/x-python",
   "name": "python",
   "nbconvert_exporter": "python",
   "pygments_lexer": "ipython3",
   "version": "3.8.5"
  }
 },
 "nbformat": 4,
 "nbformat_minor": 4
}
